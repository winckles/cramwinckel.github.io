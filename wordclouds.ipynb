{
  "nbformat": 4,
  "nbformat_minor": 0,
  "metadata": {
    "colab": {
      "name": "wordclouds.ipynb",
      "private_outputs": true,
      "provenance": [],
      "authorship_tag": "ABX9TyOrC7Mnqpj16qm/VVLyN3aW",
      "include_colab_link": true
    },
    "kernelspec": {
      "name": "python3",
      "display_name": "Python 3"
    }
  },
  "cells": [
    {
      "cell_type": "markdown",
      "metadata": {
        "id": "view-in-github",
        "colab_type": "text"
      },
      "source": [
        "<a href=\"https://colab.research.google.com/github/winckles/winckles.github.io/blob/main/wordclouds.ipynb\" target=\"_parent\"><img src=\"https://colab.research.google.com/assets/colab-badge.svg\" alt=\"Open In Colab\"/></a>"
      ]
    },
    {
      "cell_type": "markdown",
      "metadata": {
        "id": "yV54AiOcYhhS"
      },
      "source": [
        "### Wordclouds with stylecloud\n",
        "\n"
      ]
    },
    {
      "cell_type": "code",
      "metadata": {
        "id": "A9R2HWB3WJTV"
      },
      "source": [
        "import pandas as pd\n",
        "import numpy as np\n",
        "import matplotlib.pyplot as plt\n",
        "from wordcloud import WordCloud, STOPWORDS, ImageColorGenerator\n",
        "!pip install stylecloud\n",
        "import stylecloud\n",
        "\n",
        "\n",
        "names = pd.read_csv(\"https://raw.githubusercontent.com/fivethirtyeight/data/master/unisex-names/unisex_names_table.csv\", index_col=0)\n",
        "names.head()"
      ],
      "execution_count": null,
      "outputs": []
    },
    {
      "cell_type": "code",
      "metadata": {
        "id": "2IFSrnRren8F"
      },
      "source": [
        "names.tail()"
      ],
      "execution_count": null,
      "outputs": []
    },
    {
      "cell_type": "code",
      "metadata": {
        "id": "RjOFaWz7d9v4"
      },
      "source": [
        "names.info()"
      ],
      "execution_count": null,
      "outputs": []
    },
    {
      "cell_type": "code",
      "metadata": {
        "id": "fkfgxpECefrX"
      },
      "source": [
        "female = names.query(\"female_share > male_share\")\n",
        "female"
      ],
      "execution_count": null,
      "outputs": []
    },
    {
      "cell_type": "code",
      "metadata": {
        "id": "7A-VgqqLRNtz"
      },
      "source": [
        "male = names.query(\"male_share > female_share\")\n",
        "male"
      ],
      "execution_count": null,
      "outputs": []
    },
    {
      "cell_type": "code",
      "metadata": {
        "id": "H2WbjsVvgEPA"
      },
      "source": [
        "text = \" \".join(name for name in female.name)\n",
        "print (\"There are {} names that are used more for females than for males\".format(len(text)))\n",
        "text_male = \" \".join(name for name in male.name)\n",
        "print (\"There are {} names that are used more for males than for females\".format(len(text_male)))"
      ],
      "execution_count": null,
      "outputs": []
    },
    {
      "cell_type": "code",
      "metadata": {
        "id": "qdwel-9mMY2f"
      },
      "source": [
        "style = stylecloud.gen_stylecloud(text=text, icon_name= \"fas fa-venus\", palette='cartocolors.sequential.agSunset_6', background_color='Black')\n",
        "from IPython.display import Image\n",
        "Image(filename='stylecloud.png') "
      ],
      "execution_count": null,
      "outputs": []
    },
    {
      "cell_type": "code",
      "metadata": {
        "id": "vmT6wU_dQ_-U"
      },
      "source": [
        "style = stylecloud.gen_stylecloud(text=text_male, icon_name= \"fas fa-mars\", palette='cartocolors.sequential.TealGrn_6', background_color='Black')\n",
        "from IPython.display import Image\n",
        "Image(filename='stylecloud.png') "
      ],
      "execution_count": null,
      "outputs": []
    }
  ]
}